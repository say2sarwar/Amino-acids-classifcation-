{
 "cells": [
  {
   "cell_type": "code",
   "execution_count": 1,
   "metadata": {},
   "outputs": [
    {
     "data": {
      "text/html": [
       "<div>\n",
       "<style scoped>\n",
       "    .dataframe tbody tr th:only-of-type {\n",
       "        vertical-align: middle;\n",
       "    }\n",
       "\n",
       "    .dataframe tbody tr th {\n",
       "        vertical-align: top;\n",
       "    }\n",
       "\n",
       "    .dataframe thead th {\n",
       "        text-align: right;\n",
       "    }\n",
       "</style>\n",
       "<table border=\"1\" class=\"dataframe\">\n",
       "  <thead>\n",
       "    <tr style=\"text-align: right;\">\n",
       "      <th></th>\n",
       "      <th>structureId</th>\n",
       "      <th>chainId</th>\n",
       "      <th>sequence</th>\n",
       "      <th>residueCount</th>\n",
       "      <th>macromoleculeType</th>\n",
       "    </tr>\n",
       "  </thead>\n",
       "  <tbody>\n",
       "    <tr>\n",
       "      <th>0</th>\n",
       "      <td>100D</td>\n",
       "      <td>A</td>\n",
       "      <td>CCGGCGCCGG</td>\n",
       "      <td>20</td>\n",
       "      <td>DNA/RNA Hybrid</td>\n",
       "    </tr>\n",
       "    <tr>\n",
       "      <th>1</th>\n",
       "      <td>100D</td>\n",
       "      <td>B</td>\n",
       "      <td>CCGGCGCCGG</td>\n",
       "      <td>20</td>\n",
       "      <td>DNA/RNA Hybrid</td>\n",
       "    </tr>\n",
       "    <tr>\n",
       "      <th>2</th>\n",
       "      <td>101D</td>\n",
       "      <td>A</td>\n",
       "      <td>CGCGAATTCGCG</td>\n",
       "      <td>24</td>\n",
       "      <td>DNA</td>\n",
       "    </tr>\n",
       "    <tr>\n",
       "      <th>3</th>\n",
       "      <td>101D</td>\n",
       "      <td>B</td>\n",
       "      <td>CGCGAATTCGCG</td>\n",
       "      <td>24</td>\n",
       "      <td>DNA</td>\n",
       "    </tr>\n",
       "    <tr>\n",
       "      <th>4</th>\n",
       "      <td>101M</td>\n",
       "      <td>A</td>\n",
       "      <td>MVLSEGEWQLVLHVWAKVEADVAGHGQDILIRLFKSHPETLEKFDR...</td>\n",
       "      <td>154</td>\n",
       "      <td>Protein</td>\n",
       "    </tr>\n",
       "  </tbody>\n",
       "</table>\n",
       "</div>"
      ],
      "text/plain": [
       "  structureId chainId                                           sequence  \\\n",
       "0        100D       A                                         CCGGCGCCGG   \n",
       "1        100D       B                                         CCGGCGCCGG   \n",
       "2        101D       A                                       CGCGAATTCGCG   \n",
       "3        101D       B                                       CGCGAATTCGCG   \n",
       "4        101M       A  MVLSEGEWQLVLHVWAKVEADVAGHGQDILIRLFKSHPETLEKFDR...   \n",
       "\n",
       "   residueCount macromoleculeType  \n",
       "0            20    DNA/RNA Hybrid  \n",
       "1            20    DNA/RNA Hybrid  \n",
       "2            24               DNA  \n",
       "3            24               DNA  \n",
       "4           154           Protein  "
      ]
     },
     "execution_count": 1,
     "metadata": {},
     "output_type": "execute_result"
    }
   ],
   "source": [
    "import numpy as np\n",
    "import pandas as pd\n",
    "data = pd.read_csv('pdb_data_seq.csv')\n",
    "data.head()"
   ]
  },
  {
   "cell_type": "code",
   "execution_count": 2,
   "metadata": {},
   "outputs": [
    {
     "data": {
      "text/plain": [
       "array(['DNA/RNA Hybrid', 'DNA', 'Protein', 'Protein#DNA', 'DNA#RNA',\n",
       "       'RNA', 'DNA#DNA/RNA Hybrid', nan, 'Protein#RNA',\n",
       "       'RNA#DNA/RNA Hybrid', 'Protein#DNA/RNA Hybrid', 'Protein#DNA#RNA',\n",
       "       'Protein#DNA#DNA/RNA Hybrid', 'Protein#RNA#DNA/RNA Hybrid'],\n",
       "      dtype=object)"
      ]
     },
     "execution_count": 2,
     "metadata": {},
     "output_type": "execute_result"
    }
   ],
   "source": [
    "data['macromoleculeType'].unique()"
   ]
  },
  {
   "cell_type": "code",
   "execution_count": 3,
   "metadata": {},
   "outputs": [],
   "source": [
    "data = data.values"
   ]
  },
  {
   "cell_type": "code",
   "execution_count": 4,
   "metadata": {},
   "outputs": [
    {
     "data": {
      "text/plain": [
       "(467304, 2)"
      ]
     },
     "execution_count": 4,
     "metadata": {},
     "output_type": "execute_result"
    }
   ],
   "source": [
    "new_data = []\n",
    "for i in range(len(data)):\n",
    "    if data[i][4] == '':\n",
    "        continue\n",
    "    elif data[i][4] == 'DNA' or data[i][4]== 'Protein'or data[i][4] == 'RNA':\n",
    "        new_data.append([data[i][2],data[i][4]])\n",
    "    else:\n",
    "        new_data.append([data[i][2],'Hybrid'])\n",
    "        \n",
    "new_data = np.array(new_data)\n",
    "new_data.shape"
   ]
  },
  {
   "cell_type": "code",
   "execution_count": 49,
   "metadata": {},
   "outputs": [],
   "source": [
    "import csv\n",
    "\n",
    "with open('pdb_processed.csv', 'w') as myfile:\n",
    "    wr = csv.writer(myfile, quoting=csv.QUOTE_ALL)\n",
    "    wr.writerow(new_data)"
   ]
  },
  {
   "cell_type": "code",
   "execution_count": 5,
   "metadata": {},
   "outputs": [
    {
     "name": "stdout",
     "output_type": "stream",
     "text": [
      "CCGGCGCCGG\n"
     ]
    }
   ],
   "source": [
    "for i in new_data:\n",
    "    print(i[0])\n",
    "    break\n",
    "a= new_data[905][0]\n"
   ]
  },
  {
   "cell_type": "code",
   "execution_count": 6,
   "metadata": {},
   "outputs": [],
   "source": [
    "raw_data = []\n",
    "raw_label = []\n",
    "for a in new_data:\n",
    "    b = []\n",
    "    tmp = a[0]\n",
    "    tmp_lab = a[1]\n",
    "    for i in range(0, len(tmp), 3):\n",
    "        b.append(tmp[i:i+3])\n",
    "    raw_data.append(b)\n",
    "    raw_label.append(tmp_lab)"
   ]
  },
  {
   "cell_type": "code",
   "execution_count": 19,
   "metadata": {},
   "outputs": [],
   "source": [
    "for n, i in enumerate(raw_label):\n",
    "    if i == 'Protein':\n",
    "        raw_label[n] = 0\n",
    "    elif i == 'DNA':\n",
    "        raw_label[n] = 1\n",
    "    elif i == 'RNA':\n",
    "        raw_label[n] = 2\n",
    "    elif i == 'Hybrid':\n",
    "        raw_label[n] = 3\n"
   ]
  },
  {
   "cell_type": "code",
   "execution_count": 7,
   "metadata": {},
   "outputs": [
    {
     "data": {
      "text/plain": [
       "{'DNA', 'Hybrid', 'Protein', 'RNA'}"
      ]
     },
     "execution_count": 7,
     "metadata": {},
     "output_type": "execute_result"
    }
   ],
   "source": [
    "set(raw_label)"
   ]
  },
  {
   "cell_type": "code",
   "execution_count": 8,
   "metadata": {},
   "outputs": [],
   "source": [
    "%matplotlib inline\n",
    "from gensim.models import Word2Vec\n",
    "from sklearn.decomposition import PCA\n",
    "from matplotlib import pyplot"
   ]
  },
  {
   "cell_type": "code",
   "execution_count": 22,
   "metadata": {},
   "outputs": [
    {
     "name": "stderr",
     "output_type": "stream",
     "text": [
      "/usr/local/lib/python3.6/dist-packages/ipykernel_launcher.py:3: DeprecationWarning: Call to deprecated `__getitem__` (Method will be removed in 4.0.0, use self.wv.__getitem__() instead).\n",
      "  This is separate from the ipykernel package so we can avoid doing imports until\n"
     ]
    },
    {
     "data": {
      "image/png": "[encoded data removed]",
      "text/plain": [
       "<Figure size 432x288 with 1 Axes>"
      ]
     },
     "metadata": {
      "needs_background": "light"
     },
     "output_type": "display_data"
    }
   ],
   "source": [
    "model = Word2Vec(raw_data, min_count=10000)\n",
    "# fit a 2d PCA model to the vectors\n",
    "X = model[model.wv.vocab]\n",
    "pca = PCA(n_components=2)\n",
    "result = pca.fit_transform(X)\n",
    "# create a scatter plot of the projection\n",
    "pyplot.scatter(result[:, 0], result[:, 1])\n",
    "words = list(model.wv.vocab)\n",
    "for i, word in enumerate(words):\n",
    "\tpyplot.annotate(word, xy=(result[i, 0], result[i, 1]))\n",
    "pyplot.show()"
   ]
  },
  {
   "cell_type": "code",
   "execution_count": 9,
   "metadata": {},
   "outputs": [
    {
     "name": "stderr",
     "output_type": "stream",
     "text": [
      "/usr/local/lib/python3.6/dist-packages/smart_open/smart_open_lib.py:398: UserWarning: This function is deprecated, use smart_open.open instead. See the migration notes for details: https://github.com/RaRe-Technologies/smart_open/blob/master/README.rst#migrating-to-the-new-open-function\n",
      "  'See the migration notes for details: %s' % _MIGRATION_NOTES_URL\n"
     ]
    },
    {
     "name": "stdout",
     "output_type": "stream",
     "text": [
      "Word2Vec(vocab=9414, size=300, alpha=0.025)\n"
     ]
    }
   ],
   "source": [
    "model = Word2Vec(raw_data, min_count=1, size=300)\n",
    "# summarize the loaded model\n",
    "print(model)\n",
    "# summarize vocabulary\n",
    "words = list(model.wv.vocab)\n",
    "\n",
    "# access vector for one word\n",
    "print(model['KEN'])\n",
    "# save model\n",
    "model.save('model.bin')\n",
    "# load model\n",
    "new_model = Word2Vec.load('model.bin')\n",
    "print(new_model)"
   ]
  },
  {
   "cell_type": "code",
   "execution_count": 11,
   "metadata": {},
   "outputs": [
    {
     "name": "stderr",
     "output_type": "stream",
     "text": [
      "/usr/local/lib/python3.6/dist-packages/ipykernel_launcher.py:2: DeprecationWarning: Call to deprecated `syn0` (Attribute will be removed in 4.0.0, use self.vectors instead).\n",
      "  \n"
     ]
    },
    {
     "data": {
      "text/plain": [
       "(9414, 300)"
      ]
     },
     "execution_count": 11,
     "metadata": {},
     "output_type": "execute_result"
    }
   ],
   "source": [
    "model = new_model\n",
    "model.wv.syn0.shape"
   ]
  },
  {
   "cell_type": "code",
   "execution_count": 12,
   "metadata": {},
   "outputs": [],
   "source": [
    "def featureVecMethod(words, model, num_features):\n",
    "    # Pre-initialising empty numpy array for speed\n",
    "    featureVec = np.zeros(num_features,dtype=\"float32\")\n",
    "    nwords = 0\n",
    "    \n",
    "    #Converting Index2Word which is a list to a set for better speed in the execution.\n",
    "    index2word_set = set(model.wv.index2word)\n",
    "    \n",
    "    for word in  words:\n",
    "        if word in index2word_set:\n",
    "            nwords = nwords + 1\n",
    "            featureVec = np.add(featureVec,model[word])\n",
    "    \n",
    "    # Dividing the result by number of words to get average\n",
    "    featureVec = np.divide(featureVec, nwords)\n",
    "    return featureVec"
   ]
  },
  {
   "cell_type": "code",
   "execution_count": 13,
   "metadata": {},
   "outputs": [],
   "source": [
    "def getAvgFeatureVecs(sequence, model, num_features):\n",
    "    counter = 0\n",
    "    SeqFeatureVecs = np.zeros((len(sequence),num_features),dtype=\"float32\")\n",
    "    for seq in sequence:\n",
    "\n",
    "        if counter%1000 == 0:\n",
    "            print(\"Sequence %d of %d\"%(counter,len(sequence)))\n",
    "            \n",
    "        SeqFeatureVecs[counter] = featureVecMethod(seq, model, num_features)\n",
    "        counter = counter+1\n",
    "        \n",
    "    return SeqFeatureVecs"
   ]
  },
  {
   "cell_type": "code",
   "execution_count": null,
   "metadata": {},
   "outputs": [],
   "source": []
  },
  {
   "cell_type": "code",
   "execution_count": 14,
   "metadata": {},
   "outputs": [
    {
     "name": "stdout",
     "output_type": "stream",
     "text": [
      "Sequence 0 of 467304\n"
     ]
    },
    {
     "name": "stderr",
     "output_type": "stream",
     "text": [
      "/usr/local/lib/python3.6/dist-packages/ipykernel_launcher.py:12: DeprecationWarning: Call to deprecated `__getitem__` (Method will be removed in 4.0.0, use self.wv.__getitem__() instead).\n",
      "  if sys.path[0] == '':\n"
     ]
    },
    {
     "name": "stdout",
     "output_type": "stream",
     "text": [
      "Sequence 1000 of 467304\n",
      "Sequence 2000 of 467304\n",
      "Sequence 3000 of 467304\n",
      "Sequence 4000 of 467304\n",
      "Sequence 5000 of 467304\n",
      "Sequence 6000 of 467304\n",
      "Sequence 7000 of 467304\n",
      "Sequence 8000 of 467304\n",
      "Sequence 9000 of 467304\n",
      "Sequence 10000 of 467304\n",
      "Sequence 11000 of 467304\n",
      "Sequence 12000 of 467304\n",
      "Sequence 13000 of 467304\n",
      "Sequence 14000 of 467304\n",
      "Sequence 15000 of 467304\n",
      "Sequence 16000 of 467304\n",
      "Sequence 17000 of 467304\n",
      "Sequence 18000 of 467304\n",
      "Sequence 19000 of 467304\n",
      "Sequence 20000 of 467304\n",
      "Sequence 21000 of 467304\n",
      "Sequence 22000 of 467304\n",
      "Sequence 23000 of 467304\n",
      "Sequence 24000 of 467304\n",
      "Sequence 25000 of 467304\n",
      "Sequence 26000 of 467304\n",
      "Sequence 27000 of 467304\n",
      "Sequence 28000 of 467304\n",
      "Sequence 29000 of 467304\n",
      "Sequence 30000 of 467304\n",
      "Sequence 31000 of 467304\n",
      "Sequence 32000 of 467304\n",
      "Sequence 33000 of 467304\n",
      "Sequence 34000 of 467304\n",
      "Sequence 35000 of 467304\n",
      "Sequence 36000 of 467304\n",
      "Sequence 37000 of 467304\n",
      "Sequence 38000 of 467304\n",
      "Sequence 39000 of 467304\n",
      "Sequence 40000 of 467304\n",
      "Sequence 41000 of 467304\n",
      "Sequence 42000 of 467304\n",
      "Sequence 43000 of 467304\n",
      "Sequence 44000 of 467304\n",
      "Sequence 45000 of 467304\n",
      "Sequence 46000 of 467304\n",
      "Sequence 47000 of 467304\n",
      "Sequence 48000 of 467304\n",
      "Sequence 49000 of 467304\n",
      "Sequence 50000 of 467304\n",
      "Sequence 51000 of 467304\n",
      "Sequence 52000 of 467304\n",
      "Sequence 53000 of 467304\n",
      "Sequence 54000 of 467304\n",
      "Sequence 55000 of 467304\n",
      "Sequence 56000 of 467304\n",
      "Sequence 57000 of 467304\n",
      "Sequence 58000 of 467304\n",
      "Sequence 59000 of 467304\n",
      "Sequence 60000 of 467304\n",
      "Sequence 61000 of 467304\n",
      "Sequence 62000 of 467304\n",
      "Sequence 63000 of 467304\n",
      "Sequence 64000 of 467304\n",
      "Sequence 65000 of 467304\n",
      "Sequence 66000 of 467304\n",
      "Sequence 67000 of 467304\n",
      "Sequence 68000 of 467304\n",
      "Sequence 69000 of 467304\n",
      "Sequence 70000 of 467304\n",
      "Sequence 71000 of 467304\n",
      "Sequence 72000 of 467304\n",
      "Sequence 73000 of 467304\n",
      "Sequence 74000 of 467304\n",
      "Sequence 75000 of 467304\n",
      "Sequence 76000 of 467304\n",
      "Sequence 77000 of 467304\n",
      "Sequence 78000 of 467304\n",
      "Sequence 79000 of 467304\n",
      "Sequence 80000 of 467304\n",
      "Sequence 81000 of 467304\n",
      "Sequence 82000 of 467304\n",
      "Sequence 83000 of 467304\n",
      "Sequence 84000 of 467304\n",
      "Sequence 85000 of 467304\n",
      "Sequence 86000 of 467304\n",
      "Sequence 87000 of 467304\n",
      "Sequence 88000 of 467304\n",
      "Sequence 89000 of 467304\n",
      "Sequence 90000 of 467304\n",
      "Sequence 91000 of 467304\n",
      "Sequence 92000 of 467304\n",
      "Sequence 93000 of 467304\n",
      "Sequence 94000 of 467304\n",
      "Sequence 95000 of 467304\n",
      "Sequence 96000 of 467304\n",
      "Sequence 97000 of 467304\n",
      "Sequence 98000 of 467304\n",
      "Sequence 99000 of 467304\n",
      "Sequence 100000 of 467304\n",
      "Sequence 101000 of 467304\n",
      "Sequence 102000 of 467304\n",
      "Sequence 103000 of 467304\n",
      "Sequence 104000 of 467304\n",
      "Sequence 105000 of 467304\n",
      "Sequence 106000 of 467304\n",
      "Sequence 107000 of 467304\n",
      "Sequence 108000 of 467304\n",
      "Sequence 109000 of 467304\n",
      "Sequence 110000 of 467304\n",
      "Sequence 111000 of 467304\n",
      "Sequence 112000 of 467304\n",
      "Sequence 113000 of 467304\n",
      "Sequence 114000 of 467304\n",
      "Sequence 115000 of 467304\n",
      "Sequence 116000 of 467304\n",
      "Sequence 117000 of 467304\n",
      "Sequence 118000 of 467304\n",
      "Sequence 119000 of 467304\n",
      "Sequence 120000 of 467304\n",
      "Sequence 121000 of 467304\n",
      "Sequence 122000 of 467304\n",
      "Sequence 123000 of 467304\n",
      "Sequence 124000 of 467304\n",
      "Sequence 125000 of 467304\n",
      "Sequence 126000 of 467304\n",
      "Sequence 127000 of 467304\n",
      "Sequence 128000 of 467304\n",
      "Sequence 129000 of 467304\n",
      "Sequence 130000 of 467304\n",
      "Sequence 131000 of 467304\n",
      "Sequence 132000 of 467304\n",
      "Sequence 133000 of 467304\n",
      "Sequence 134000 of 467304\n",
      "Sequence 135000 of 467304\n",
      "Sequence 136000 of 467304\n",
      "Sequence 137000 of 467304\n",
      "Sequence 138000 of 467304\n",
      "Sequence 139000 of 467304\n",
      "Sequence 140000 of 467304\n",
      "Sequence 141000 of 467304\n",
      "Sequence 142000 of 467304\n",
      "Sequence 143000 of 467304\n",
      "Sequence 144000 of 467304\n",
      "Sequence 145000 of 467304\n",
      "Sequence 146000 of 467304\n",
      "Sequence 147000 of 467304\n",
      "Sequence 148000 of 467304\n",
      "Sequence 149000 of 467304\n",
      "Sequence 150000 of 467304\n",
      "Sequence 151000 of 467304\n",
      "Sequence 152000 of 467304\n",
      "Sequence 153000 of 467304\n",
      "Sequence 154000 of 467304\n",
      "Sequence 155000 of 467304\n",
      "Sequence 156000 of 467304\n",
      "Sequence 157000 of 467304\n",
      "Sequence 158000 of 467304\n",
      "Sequence 159000 of 467304\n",
      "Sequence 160000 of 467304\n",
      "Sequence 161000 of 467304\n",
      "Sequence 162000 of 467304\n",
      "Sequence 163000 of 467304\n",
      "Sequence 164000 of 467304\n",
      "Sequence 165000 of 467304\n",
      "Sequence 166000 of 467304\n",
      "Sequence 167000 of 467304\n",
      "Sequence 168000 of 467304\n",
      "Sequence 169000 of 467304\n",
      "Sequence 170000 of 467304\n",
      "Sequence 171000 of 467304\n",
      "Sequence 172000 of 467304\n",
      "Sequence 173000 of 467304\n",
      "Sequence 174000 of 467304\n",
      "Sequence 175000 of 467304\n",
      "Sequence 176000 of 467304\n",
      "Sequence 177000 of 467304\n",
      "Sequence 178000 of 467304\n",
      "Sequence 179000 of 467304\n",
      "Sequence 180000 of 467304\n",
      "Sequence 181000 of 467304\n",
      "Sequence 182000 of 467304\n",
      "Sequence 183000 of 467304\n",
      "Sequence 184000 of 467304\n",
      "Sequence 185000 of 467304\n",
      "Sequence 186000 of 467304\n",
      "Sequence 187000 of 467304\n",
      "Sequence 188000 of 467304\n",
      "Sequence 189000 of 467304\n",
      "Sequence 190000 of 467304\n",
      "Sequence 191000 of 467304\n",
      "Sequence 192000 of 467304\n",
      "Sequence 193000 of 467304\n",
      "Sequence 194000 of 467304\n",
      "Sequence 195000 of 467304\n",
      "Sequence 196000 of 467304\n",
      "Sequence 197000 of 467304\n",
      "Sequence 198000 of 467304\n",
      "Sequence 199000 of 467304\n",
      "Sequence 200000 of 467304\n",
      "Sequence 201000 of 467304\n",
      "Sequence 202000 of 467304\n",
      "Sequence 203000 of 467304\n",
      "Sequence 204000 of 467304\n",
      "Sequence 205000 of 467304\n",
      "Sequence 206000 of 467304\n",
      "Sequence 207000 of 467304\n",
      "Sequence 208000 of 467304\n",
      "Sequence 209000 of 467304\n",
      "Sequence 210000 of 467304\n",
      "Sequence 211000 of 467304\n",
      "Sequence 212000 of 467304\n",
      "Sequence 213000 of 467304\n",
      "Sequence 214000 of 467304\n",
      "Sequence 215000 of 467304\n",
      "Sequence 216000 of 467304\n",
      "Sequence 217000 of 467304\n",
      "Sequence 218000 of 467304\n",
      "Sequence 219000 of 467304\n",
      "Sequence 220000 of 467304\n",
      "Sequence 221000 of 467304\n",
      "Sequence 222000 of 467304\n",
      "Sequence 223000 of 467304\n",
      "Sequence 224000 of 467304\n",
      "Sequence 225000 of 467304\n",
      "Sequence 226000 of 467304\n",
      "Sequence 227000 of 467304\n",
      "Sequence 228000 of 467304\n",
      "Sequence 229000 of 467304\n",
      "Sequence 230000 of 467304\n",
      "Sequence 231000 of 467304\n",
      "Sequence 232000 of 467304\n",
      "Sequence 233000 of 467304\n",
      "Sequence 234000 of 467304\n",
      "Sequence 235000 of 467304\n",
      "Sequence 236000 of 467304\n",
      "Sequence 237000 of 467304\n",
      "Sequence 238000 of 467304\n",
      "Sequence 239000 of 467304\n",
      "Sequence 240000 of 467304\n",
      "Sequence 241000 of 467304\n",
      "Sequence 242000 of 467304\n",
      "Sequence 243000 of 467304\n",
      "Sequence 244000 of 467304\n",
      "Sequence 245000 of 467304\n",
      "Sequence 246000 of 467304\n",
      "Sequence 247000 of 467304\n",
      "Sequence 248000 of 467304\n",
      "Sequence 249000 of 467304\n",
      "Sequence 250000 of 467304\n",
      "Sequence 251000 of 467304\n",
      "Sequence 252000 of 467304\n",
      "Sequence 253000 of 467304\n",
      "Sequence 254000 of 467304\n",
      "Sequence 255000 of 467304\n",
      "Sequence 256000 of 467304\n",
      "Sequence 257000 of 467304\n",
      "Sequence 258000 of 467304\n",
      "Sequence 259000 of 467304\n",
      "Sequence 260000 of 467304\n",
      "Sequence 261000 of 467304\n",
      "Sequence 262000 of 467304\n",
      "Sequence 263000 of 467304\n",
      "Sequence 264000 of 467304\n",
      "Sequence 265000 of 467304\n",
      "Sequence 266000 of 467304\n",
      "Sequence 267000 of 467304\n",
      "Sequence 268000 of 467304\n",
      "Sequence 269000 of 467304\n",
      "Sequence 270000 of 467304\n",
      "Sequence 271000 of 467304\n",
      "Sequence 272000 of 467304\n",
      "Sequence 273000 of 467304\n",
      "Sequence 274000 of 467304\n",
      "Sequence 275000 of 467304\n",
      "Sequence 276000 of 467304\n",
      "Sequence 277000 of 467304\n",
      "Sequence 278000 of 467304\n",
      "Sequence 279000 of 467304\n",
      "Sequence 280000 of 467304\n",
      "Sequence 281000 of 467304\n",
      "Sequence 282000 of 467304\n",
      "Sequence 283000 of 467304\n",
      "Sequence 284000 of 467304\n",
      "Sequence 285000 of 467304\n",
      "Sequence 286000 of 467304\n",
      "Sequence 287000 of 467304\n",
      "Sequence 288000 of 467304\n",
      "Sequence 289000 of 467304\n",
      "Sequence 290000 of 467304\n",
      "Sequence 291000 of 467304\n",
      "Sequence 292000 of 467304\n",
      "Sequence 293000 of 467304\n",
      "Sequence 294000 of 467304\n",
      "Sequence 295000 of 467304\n",
      "Sequence 296000 of 467304\n",
      "Sequence 297000 of 467304\n",
      "Sequence 298000 of 467304\n",
      "Sequence 299000 of 467304\n",
      "Sequence 300000 of 467304\n",
      "Sequence 301000 of 467304\n",
      "Sequence 302000 of 467304\n",
      "Sequence 303000 of 467304\n",
      "Sequence 304000 of 467304\n",
      "Sequence 305000 of 467304\n",
      "Sequence 306000 of 467304\n",
      "Sequence 307000 of 467304\n",
      "Sequence 308000 of 467304\n",
      "Sequence 309000 of 467304\n",
      "Sequence 310000 of 467304\n",
      "Sequence 311000 of 467304\n",
      "Sequence 312000 of 467304\n",
      "Sequence 313000 of 467304\n",
      "Sequence 314000 of 467304\n",
      "Sequence 315000 of 467304\n",
      "Sequence 316000 of 467304\n",
      "Sequence 317000 of 467304\n",
      "Sequence 318000 of 467304\n",
      "Sequence 319000 of 467304\n",
      "Sequence 320000 of 467304\n"
     ]
    },
    {
     "name": "stdout",
     "output_type": "stream",
     "text": [
      "Sequence 321000 of 467304\n",
      "Sequence 322000 of 467304\n",
      "Sequence 323000 of 467304\n",
      "Sequence 324000 of 467304\n",
      "Sequence 325000 of 467304\n",
      "Sequence 326000 of 467304\n",
      "Sequence 327000 of 467304\n",
      "Sequence 328000 of 467304\n",
      "Sequence 329000 of 467304\n",
      "Sequence 330000 of 467304\n",
      "Sequence 331000 of 467304\n",
      "Sequence 332000 of 467304\n",
      "Sequence 333000 of 467304\n",
      "Sequence 334000 of 467304\n",
      "Sequence 335000 of 467304\n",
      "Sequence 336000 of 467304\n",
      "Sequence 337000 of 467304\n",
      "Sequence 338000 of 467304\n",
      "Sequence 339000 of 467304\n",
      "Sequence 340000 of 467304\n",
      "Sequence 341000 of 467304\n",
      "Sequence 342000 of 467304\n",
      "Sequence 343000 of 467304\n",
      "Sequence 344000 of 467304\n",
      "Sequence 345000 of 467304\n",
      "Sequence 346000 of 467304\n",
      "Sequence 347000 of 467304\n",
      "Sequence 348000 of 467304\n",
      "Sequence 349000 of 467304\n",
      "Sequence 350000 of 467304\n",
      "Sequence 351000 of 467304\n",
      "Sequence 352000 of 467304\n",
      "Sequence 353000 of 467304\n",
      "Sequence 354000 of 467304\n",
      "Sequence 355000 of 467304\n",
      "Sequence 356000 of 467304\n",
      "Sequence 357000 of 467304\n",
      "Sequence 358000 of 467304\n",
      "Sequence 359000 of 467304\n",
      "Sequence 360000 of 467304\n",
      "Sequence 361000 of 467304\n",
      "Sequence 362000 of 467304\n",
      "Sequence 363000 of 467304\n",
      "Sequence 364000 of 467304\n",
      "Sequence 365000 of 467304\n",
      "Sequence 366000 of 467304\n",
      "Sequence 367000 of 467304\n",
      "Sequence 368000 of 467304\n",
      "Sequence 369000 of 467304\n",
      "Sequence 370000 of 467304\n",
      "Sequence 371000 of 467304\n",
      "Sequence 372000 of 467304\n",
      "Sequence 373000 of 467304\n",
      "Sequence 374000 of 467304\n",
      "Sequence 375000 of 467304\n",
      "Sequence 376000 of 467304\n",
      "Sequence 377000 of 467304\n",
      "Sequence 378000 of 467304\n",
      "Sequence 379000 of 467304\n",
      "Sequence 380000 of 467304\n",
      "Sequence 381000 of 467304\n",
      "Sequence 382000 of 467304\n",
      "Sequence 383000 of 467304\n",
      "Sequence 384000 of 467304\n",
      "Sequence 385000 of 467304\n",
      "Sequence 386000 of 467304\n",
      "Sequence 387000 of 467304\n",
      "Sequence 388000 of 467304\n",
      "Sequence 389000 of 467304\n",
      "Sequence 390000 of 467304\n",
      "Sequence 391000 of 467304\n",
      "Sequence 392000 of 467304\n",
      "Sequence 393000 of 467304\n",
      "Sequence 394000 of 467304\n",
      "Sequence 395000 of 467304\n",
      "Sequence 396000 of 467304\n",
      "Sequence 397000 of 467304\n",
      "Sequence 398000 of 467304\n",
      "Sequence 399000 of 467304\n",
      "Sequence 400000 of 467304\n",
      "Sequence 401000 of 467304\n",
      "Sequence 402000 of 467304\n",
      "Sequence 403000 of 467304\n",
      "Sequence 404000 of 467304\n",
      "Sequence 405000 of 467304\n",
      "Sequence 406000 of 467304\n",
      "Sequence 407000 of 467304\n",
      "Sequence 408000 of 467304\n",
      "Sequence 409000 of 467304\n",
      "Sequence 410000 of 467304\n",
      "Sequence 411000 of 467304\n",
      "Sequence 412000 of 467304\n",
      "Sequence 413000 of 467304\n",
      "Sequence 414000 of 467304\n",
      "Sequence 415000 of 467304\n",
      "Sequence 416000 of 467304\n",
      "Sequence 417000 of 467304\n",
      "Sequence 418000 of 467304\n",
      "Sequence 419000 of 467304\n",
      "Sequence 420000 of 467304\n",
      "Sequence 421000 of 467304\n",
      "Sequence 422000 of 467304\n",
      "Sequence 423000 of 467304\n",
      "Sequence 424000 of 467304\n",
      "Sequence 425000 of 467304\n",
      "Sequence 426000 of 467304\n",
      "Sequence 427000 of 467304\n",
      "Sequence 428000 of 467304\n",
      "Sequence 429000 of 467304\n",
      "Sequence 430000 of 467304\n",
      "Sequence 431000 of 467304\n",
      "Sequence 432000 of 467304\n",
      "Sequence 433000 of 467304\n",
      "Sequence 434000 of 467304\n",
      "Sequence 435000 of 467304\n",
      "Sequence 436000 of 467304\n",
      "Sequence 437000 of 467304\n",
      "Sequence 438000 of 467304\n",
      "Sequence 439000 of 467304\n",
      "Sequence 440000 of 467304\n",
      "Sequence 441000 of 467304\n",
      "Sequence 442000 of 467304\n",
      "Sequence 443000 of 467304\n",
      "Sequence 444000 of 467304\n",
      "Sequence 445000 of 467304\n",
      "Sequence 446000 of 467304\n",
      "Sequence 447000 of 467304\n",
      "Sequence 448000 of 467304\n",
      "Sequence 449000 of 467304\n",
      "Sequence 450000 of 467304\n",
      "Sequence 451000 of 467304\n",
      "Sequence 452000 of 467304\n",
      "Sequence 453000 of 467304\n",
      "Sequence 454000 of 467304\n",
      "Sequence 455000 of 467304\n",
      "Sequence 456000 of 467304\n",
      "Sequence 457000 of 467304\n",
      "Sequence 458000 of 467304\n",
      "Sequence 459000 of 467304\n",
      "Sequence 460000 of 467304\n",
      "Sequence 461000 of 467304\n",
      "Sequence 462000 of 467304\n",
      "Sequence 463000 of 467304\n",
      "Sequence 464000 of 467304\n",
      "Sequence 465000 of 467304\n",
      "Sequence 466000 of 467304\n",
      "Sequence 467000 of 467304\n"
     ]
    }
   ],
   "source": [
    "trainDataVecs = getAvgFeatureVecs(raw_data, model, 300)"
   ]
  },
  {
   "cell_type": "code",
   "execution_count": 115,
   "metadata": {},
   "outputs": [],
   "source": [
    "testDataVecs= trainDataVecs[0:1000]\n",
    "valDataVecs = trainDataVecs[1000:2000]\n",
    "trainDataVecs = trainDataVecs[2000:] "
   ]
  },
  {
   "cell_type": "code",
   "execution_count": 15,
   "metadata": {},
   "outputs": [
    {
     "data": {
      "text/plain": [
       "93461"
      ]
     },
     "execution_count": 15,
     "metadata": {},
     "output_type": "execute_result"
    }
   ],
   "source": [
    "from sklearn.model_selection import train_test_split\n",
    "\n",
    "X_train, X_test, y_train, y_test = train_test_split(trainDataVecs, raw_label, test_size=0.20, random_state=290, shuffle=True)\n",
    "len(y_test)"
   ]
  },
  {
   "cell_type": "code",
   "execution_count": 20,
   "metadata": {},
   "outputs": [
    {
     "name": "stdout",
     "output_type": "stream",
     "text": [
      "Fitting random forest to training data....\n"
     ]
    },
    {
     "name": "stderr",
     "output_type": "stream",
     "text": [
      "[Parallel(n_jobs=1)]: Using backend SequentialBackend with 1 concurrent workers.\n"
     ]
    },
    {
     "name": "stdout",
     "output_type": "stream",
     "text": [
      "building tree 1 of 100\n"
     ]
    },
    {
     "name": "stderr",
     "output_type": "stream",
     "text": [
      "[Parallel(n_jobs=1)]: Done   1 out of   1 | elapsed:   12.7s remaining:    0.0s\n"
     ]
    },
    {
     "name": "stdout",
     "output_type": "stream",
     "text": [
      "building tree 2 of 100\n",
      "building tree 3 of 100\n",
      "building tree 4 of 100\n",
      "building tree 5 of 100\n",
      "building tree 6 of 100\n",
      "building tree 7 of 100\n",
      "building tree 8 of 100\n",
      "building tree 9 of 100\n",
      "building tree 10 of 100\n",
      "building tree 11 of 100\n",
      "building tree 12 of 100\n",
      "building tree 13 of 100\n",
      "building tree 14 of 100\n",
      "building tree 15 of 100\n",
      "building tree 16 of 100\n",
      "building tree 17 of 100\n",
      "building tree 18 of 100\n",
      "building tree 19 of 100\n",
      "building tree 20 of 100\n",
      "building tree 21 of 100\n",
      "building tree 22 of 100\n",
      "building tree 23 of 100\n",
      "building tree 24 of 100\n",
      "building tree 25 of 100\n",
      "building tree 26 of 100\n",
      "building tree 27 of 100\n",
      "building tree 28 of 100\n",
      "building tree 29 of 100\n",
      "building tree 30 of 100\n",
      "building tree 31 of 100\n",
      "building tree 32 of 100\n",
      "building tree 33 of 100\n",
      "building tree 34 of 100\n",
      "building tree 35 of 100\n",
      "building tree 36 of 100\n",
      "building tree 37 of 100\n",
      "building tree 38 of 100\n",
      "building tree 39 of 100\n",
      "building tree 40 of 100\n",
      "building tree 41 of 100\n",
      "building tree 42 of 100\n",
      "building tree 43 of 100\n",
      "building tree 44 of 100\n",
      "building tree 45 of 100\n",
      "building tree 46 of 100\n",
      "building tree 47 of 100\n",
      "building tree 48 of 100\n",
      "building tree 49 of 100\n",
      "building tree 50 of 100\n",
      "building tree 51 of 100\n",
      "building tree 52 of 100\n",
      "building tree 53 of 100\n",
      "building tree 54 of 100\n",
      "building tree 55 of 100\n",
      "building tree 56 of 100\n",
      "building tree 57 of 100\n",
      "building tree 58 of 100\n",
      "building tree 59 of 100\n",
      "building tree 60 of 100\n",
      "building tree 61 of 100\n",
      "building tree 62 of 100\n",
      "building tree 63 of 100\n",
      "building tree 64 of 100\n",
      "building tree 65 of 100\n",
      "building tree 66 of 100\n",
      "building tree 67 of 100\n",
      "building tree 68 of 100\n",
      "building tree 69 of 100\n",
      "building tree 70 of 100\n",
      "building tree 71 of 100\n",
      "building tree 72 of 100\n",
      "building tree 73 of 100\n",
      "building tree 74 of 100\n",
      "building tree 75 of 100\n",
      "building tree 76 of 100\n",
      "building tree 77 of 100\n",
      "building tree 78 of 100\n",
      "building tree 79 of 100\n",
      "building tree 80 of 100\n",
      "building tree 81 of 100\n",
      "building tree 82 of 100\n",
      "building tree 83 of 100\n",
      "building tree 84 of 100\n",
      "building tree 85 of 100\n",
      "building tree 86 of 100\n",
      "building tree 87 of 100\n",
      "building tree 88 of 100\n",
      "building tree 89 of 100\n",
      "building tree 90 of 100\n",
      "building tree 91 of 100\n",
      "building tree 92 of 100\n",
      "building tree 93 of 100\n",
      "building tree 94 of 100\n",
      "building tree 95 of 100\n",
      "building tree 96 of 100\n",
      "building tree 97 of 100\n",
      "building tree 98 of 100\n",
      "building tree 99 of 100\n",
      "building tree 100 of 100\n"
     ]
    },
    {
     "name": "stderr",
     "output_type": "stream",
     "text": [
      "[Parallel(n_jobs=1)]: Done 100 out of 100 | elapsed: 21.6min finished\n"
     ]
    }
   ],
   "source": [
    "# Fitting a random forest classifier to the training data\n",
    "from sklearn.ensemble import RandomForestClassifier\n",
    "forest = RandomForestClassifier(n_estimators = 100,verbose=2)\n",
    "    \n",
    "print(\"Fitting random forest to training data....\")    \n",
    "forest = forest.fit(X_train, y_train)"
   ]
  },
  {
   "cell_type": "code",
   "execution_count": 21,
   "metadata": {},
   "outputs": [
    {
     "name": "stderr",
     "output_type": "stream",
     "text": [
      "[Parallel(n_jobs=1)]: Using backend SequentialBackend with 1 concurrent workers.\n",
      "[Parallel(n_jobs=1)]: Done   1 out of   1 | elapsed:    0.0s remaining:    0.0s\n",
      "[Parallel(n_jobs=1)]: Done 100 out of 100 | elapsed:    3.1s finished\n",
      "[Parallel(n_jobs=1)]: Using backend SequentialBackend with 1 concurrent workers.\n",
      "[Parallel(n_jobs=1)]: Done   1 out of   1 | elapsed:    0.1s remaining:    0.0s\n",
      "[Parallel(n_jobs=1)]: Done 100 out of 100 | elapsed:   11.8s finished\n"
     ]
    },
    {
     "name": "stdout",
     "output_type": "stream",
     "text": [
      "Train Accuracy :: 97.2611\n",
      "Test Accuracy  :: 95.6538\n"
     ]
    }
   ],
   "source": [
    "from sklearn.metrics import accuracy_score\n",
    "from sklearn.metrics import confusion_matrix\n",
    "y_pred = forest.predict(X_test)\n",
    "train_accuracy = accuracy_score(y_train, forest.predict(X_train))\n",
    "test_accuracy = accuracy_score(y_test, y_pred)\n",
    "print(\"Train Accuracy :: %0.4f\"%(train_accuracy*100))\n",
    "print(\"Test Accuracy  :: %0.4f\"%(test_accuracy*100))"
   ]
  },
  {
   "cell_type": "code",
   "execution_count": 22,
   "metadata": {},
   "outputs": [
    {
     "name": "stdout",
     "output_type": "stream",
     "text": [
      "              precision    recall  f1-score   support\n",
      "\n",
      "     Protein       0.89      0.79      0.84       720\n",
      "         DNA       0.94      0.88      0.91     23143\n",
      "         RNA       0.96      0.98      0.97     69118\n",
      "      Hybrid       0.94      0.70      0.80       480\n",
      "\n",
      "   micro avg       0.96      0.96      0.96     93461\n",
      "   macro avg       0.93      0.84      0.88     93461\n",
      "weighted avg       0.96      0.96      0.96     93461\n",
      "\n"
     ]
    }
   ],
   "source": [
    "\n",
    "from sklearn.metrics import classification_report\n",
    "target_names = ['Protein','DNA','RNA','Hybrid']\n",
    "print(classification_report(y_test, y_pred, target_names=target_names))"
   ]
  },
  {
   "cell_type": "code",
   "execution_count": 19,
   "metadata": {},
   "outputs": [
    {
     "data": {
      "text/plain": [
       "RandomForestClassifier(bootstrap=True, class_weight=None, criterion='gini',\n",
       "            max_depth=None, max_features='auto', max_leaf_nodes=None,\n",
       "            min_impurity_decrease=0.0, min_impurity_split=None,\n",
       "            min_samples_leaf=1, min_samples_split=2,\n",
       "            min_weight_fraction_leaf=0.0, n_estimators=100, n_jobs=None,\n",
       "            oob_score=False, random_state=None, verbose=0,\n",
       "            warm_start=False)"
      ]
     },
     "execution_count": 19,
     "metadata": {},
     "output_type": "execute_result"
    }
   ],
   "source": [
    "forest"
   ]
  },
  {
   "cell_type": "code",
   "execution_count": null,
   "metadata": {},
   "outputs": [],
   "source": []
  }
 ],
 "metadata": {
  "kernelspec": {
   "display_name": "Python 3",
   "language": "python",
   "name": "python3"
  },
  "language_info": {
   "codemirror_mode": {
    "name": "ipython",
    "version": 3
   },
   "file_extension": ".py",
   "mimetype": "text/x-python",
   "name": "python",
   "nbconvert_exporter": "python",
   "pygments_lexer": "ipython3",
   "version": "3.6.7"
  }
 },
 "nbformat": 4,
 "nbformat_minor": 2
}
